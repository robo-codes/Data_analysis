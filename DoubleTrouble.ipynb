{
 "cells": [
  {
   "cell_type": "code",
   "execution_count": 1,
   "id": "e521a04f",
   "metadata": {},
   "outputs": [],
   "source": [
    "import pandas as pd\n",
    "import numpy as np"
   ]
  },
  {
   "cell_type": "code",
   "execution_count": 2,
   "id": "e1b194bd",
   "metadata": {},
   "outputs": [],
   "source": [
    "df = pd.read_excel('Challenge_Dataset.xlsx')"
   ]
  },
  {
   "cell_type": "code",
   "execution_count": 3,
   "id": "631ac8ad",
   "metadata": {},
   "outputs": [
    {
     "name": "stdout",
     "output_type": "stream",
     "text": [
      "<class 'pandas.core.frame.DataFrame'>\n",
      "RangeIndex: 4549 entries, 0 to 4548\n",
      "Data columns (total 21 columns):\n",
      " #   Column                    Non-Null Count  Dtype  \n",
      "---  ------                    --------------  -----  \n",
      " 0   PROGRAM NAME              2248 non-null   object \n",
      " 1   PROGRAM CODE              1914 non-null   object \n",
      " 2   PROGRAM CODE 2            318 non-null    object \n",
      " 3   PROGRAM CODE 3            17 non-null     object \n",
      " 4   COURSE CODE               847 non-null    object \n",
      " 5   COURSE CODE 2             803 non-null    object \n",
      " 6   COURSE CODE3              331 non-null    object \n",
      " 7   COURSE CODE 4             237 non-null    object \n",
      " 8   WIL TYPE                  827 non-null    object \n",
      " 9   WIL TYPE 2                798 non-null    object \n",
      " 10  WIL TYPE 3                331 non-null    object \n",
      " 11  WIL TYPE 4                237 non-null    object \n",
      " 12  Primary Key               4439 non-null   object \n",
      " 13  Contact Name              4549 non-null   object \n",
      " 14  Address                   2058 non-null   object \n",
      " 15  City                      1905 non-null   object \n",
      " 16  Postal Code               497 non-null    object \n",
      " 17  Paid/Unpaid               0 non-null      float64\n",
      " 18  22F\n",
      "# of Students Placed  726 non-null    float64\n",
      " 19  23W\n",
      "# of Students Placed  0 non-null      float64\n",
      " 20  PAC/PLACE/CAREER          4394 non-null   object \n",
      "dtypes: float64(3), object(18)\n",
      "memory usage: 746.4+ KB\n"
     ]
    }
   ],
   "source": [
    "df.info()"
   ]
  },
  {
   "cell_type": "code",
   "execution_count": 4,
   "id": "5fb8fcb2",
   "metadata": {},
   "outputs": [
    {
     "name": "stdout",
     "output_type": "stream",
     "text": [
      "Rows     :  4549\n",
      "Columns  :  21\n",
      "\n",
      "Features : \n",
      " ['PROGRAM NAME', 'PROGRAM CODE', 'PROGRAM CODE 2 ', 'PROGRAM CODE 3', 'COURSE CODE', 'COURSE CODE 2', 'COURSE CODE3', 'COURSE CODE 4', 'WIL TYPE', 'WIL TYPE 2', 'WIL TYPE 3', 'WIL TYPE 4', 'Primary Key', 'Contact Name', 'Address', 'City', 'Postal Code', 'Paid/Unpaid', '22F\\n# of Students Placed', '23W\\n# of Students Placed', 'PAC/PLACE/CAREER']\n",
      "\n",
      "Unique values :  \n",
      " PROGRAM NAME                  109\n",
      "PROGRAM CODE                   75\n",
      "PROGRAM CODE 2                 18\n",
      "PROGRAM CODE 3                  2\n",
      "COURSE CODE                    14\n",
      "COURSE CODE 2                 149\n",
      "COURSE CODE3                    4\n",
      "COURSE CODE 4                   2\n",
      "WIL TYPE                        6\n",
      "WIL TYPE 2                      5\n",
      "WIL TYPE 3                      3\n",
      "WIL TYPE 4                      2\n",
      "Primary Key                  3449\n",
      "Contact Name                 2436\n",
      "Address                      1631\n",
      "City                          288\n",
      "Postal Code                   356\n",
      "Paid/Unpaid                     0\n",
      "22F\\n# of Students Placed       6\n",
      "23W\\n# of Students Placed       0\n",
      "PAC/PLACE/CAREER               13\n",
      "dtype: int64\n"
     ]
    }
   ],
   "source": [
    "print (\"Rows     : \" ,df.shape[0])\n",
    "print (\"Columns  : \" ,df.shape[1])\n",
    "print (\"\\nFeatures : \\n\" ,df.columns.tolist())\n",
    "print (\"\\nUnique values :  \\n\",df.nunique())"
   ]
  },
  {
   "cell_type": "code",
   "execution_count": 5,
   "id": "0fe7ca85",
   "metadata": {},
   "outputs": [
    {
     "data": {
      "text/plain": [
       "array([nan, 'Windsor, ON', 'Kingsville, ON', ' Chatham, ON ',\n",
       "       'LaSalle, ON ', 'Etobicoke, ON ', 'Chatham, ON', 'Ridgetown, ON ',\n",
       "       'Amherstburg, ON ', 'Leamington, ON ', 'Chatham, ON ',\n",
       "       'Tecumseh, ON', 'North York, ON', 'Windsor, ON ', 'LaSalle, ON',\n",
       "       'Wheatley, ON', 'Scarborough, ON ', 'Kitchener, ON',\n",
       "       'Alliston, ON', 'Wheatley, ON ', 'Belle River, ON',\n",
       "       'Amherstburg, ON', ' Tecumseh, ON ', 'Toronto, ON',\n",
       "       'Maidstone, ON ', 'Brampton Ontario', 'Brampton, ON',\n",
       "       'Tecumseh, ON ', 'Mississauga, ON ', 'Orléans, ON ', 'London, ON',\n",
       "       'Oldcastle, ON ', 'Kingsville, On', 'Leamington, ON',\n",
       "       'Woodstock, ON ', 'Collingwood, ON', 'Belle River, ON ',\n",
       "       'Chatham,ON', 'Essex, ON ', 'Blenheim, ON', 'Tilbury, ON ',\n",
       "       'Guelph, ON', 'Dundas, ON', 'Strathroy ON', 'Essex, ON',\n",
       "       'Orillia, ON', 'Wallaceburg, ON', 'Collingwood, ON ', ' Essex, ON',\n",
       "       ' Tilbury, ON ', 'Fergus, ON ', 'Emeryville, ON', 'Georgetown, ON',\n",
       "       'Wallaceburg, ON ', 'Scarborough, ON', 'Lucan, ON', 'Toronto, ON ',\n",
       "       ' Oldcastle, ON ', 'Thunder Bay, ON', 'Shelburne, ON ',\n",
       "       'Corunna, ON', 'Hamilton, ON', 'Tilbury, ON', 'Mississauga, ON',\n",
       "       'Goderich, ON', 'Sarnia, ON', 'Kingsville, ON ', 'North York, ON ',\n",
       "       'St. Thomas, ON', 'Brampton,ON  ', 'Calgary, AB', 'Amherstburg ON',\n",
       "       'Edmonton, AB', 'Ingersoll, ON', 'Oldcastle, ON',\n",
       "       'Thamesville, ON', 'Victoria, BC', 'Dutton, ON\\xa0', 'Wingham, ON',\n",
       "       'Richmond Hill, ON', 'New Hamburg, ON', 'Windsor', 'Blenheim',\n",
       "       'Brampton', 'Essex', 'Ottawa', 'Chatham', 'Wheatley', 'Leamington',\n",
       "       'London', 'Wallaceburg', 'Lakeshore', 'Tecumseh', 'Tilbury',\n",
       "       'West Lorne', 'Fergus', 'St Thomas', 'London Westmount Gdns LTC',\n",
       "       'Guelph', 'Mississauga', 'Petrolia', 'LaSalle, ON. ', 'Kitchener',\n",
       "       'Owen Sound', 'Hamilton', 'Orangeville', 'Toronto/Ottawa ',\n",
       "       'Windsor ', 'Burlington', 'Newmarket', 'Ottawa ', 'Mississauga ',\n",
       "       'Toronto  ', 'Woodstock', 'Whitby', 'Waterloo', 'Strathroy', 'GTA',\n",
       "       'Port Hope', 'Blind River', 'Dresden', 'Stoney Point', 'Dryden',\n",
       "       'Listowell', 'Hanover', 'Courtright', 'St. Catharines',\n",
       "       'St. Marys', 'Markham', 'Greater Napanee', 'Windsor / GTA',\n",
       "       'Thunderbay', 'Pembroke', 'Mooretown', 'Ruthven', 'Winchester',\n",
       "       'London ', 'LaSalle', 'Bolton', 'Kingsville', 'WINDSOR', 'Lasalle',\n",
       "       'Amherstburg', 'Harrow', 'CHATHAM', 'Chatham ', 'Oldcastle',\n",
       "       'AMHERSTBURG', 'amherstburg', 'Toronto', 'Kingsvillle', 'Banff',\n",
       "       'Sudbury', 'Bath', 'Kincardine', 'Mitchell', 'TORONTO',\n",
       "       'Southfield', 'Farmington Hills', 'Taylor', 'Belle River',\n",
       "       'Belleville', 'windsor', 'Courtice', 'BELLE RIVER', 'RR1 Ilderton',\n",
       "       'Kirkland Lake', 'North York', 'Warren', 'stoney point',\n",
       "       'lakeshore', 'Kanata', 'St. Thomas', 'Amherstburg ', 'Caledonia',\n",
       "       'Hiuntsville', 'lasalle ', 'Vancouver', 'Richmond Hill', 'Sarnia',\n",
       "       'WINDSOR ', 'Etobicoke', 'chatham', 'Lasalle ', 'Victoria ',\n",
       "       'Vaughan', 'Leamington ', 'Collingwood', 'Windsor,', 'Hagersville',\n",
       "       'Cornwall', 'North Bay', 'Woodslee', 'Cranbrook', 'Maidstone ',\n",
       "       'Maidstone', 'Aylmer ', 'Medicine Hat', 'Goderich', 'Cambridge ',\n",
       "       'TECUMSEH', 'Leamington Ontario', 'Thornhill', 'WALLACEBURG',\n",
       "       'lasalle', 'Thamesville', 'Chatham  ', 'Kamloops', 'Edmonton',\n",
       "       'Peterborough', 'LEAMINGTON', 'Other', 'Essex ', 'ESSEX', 'Comber',\n",
       "       'Pelee Island', 'Dover Centre', 'Trois-Rivières', 'Geraldton',\n",
       "       'Golden', 'Cambridge', 'ST CATHARINES', 'Oakville', 'BLENHEIM',\n",
       "       'Stratford', 'OldCastle', 'Kelowna', 'Minett', 'amhersburg',\n",
       "       'Kemptville', 'Kenora', 'Oshawa', 'WATFORD', 'Montreal',\n",
       "       'Wheatley ', 'Chatham-Kent', 'Tilbury ', 'Kingsville ',\n",
       "       'Brantford', 'Port Perry', 'Cochrane', 'Pakenham', 'Dartmouth',\n",
       "       'Oldcastle ', 'Glencoe', 'Huntsville', 'New Hamburg',\n",
       "       'Niagara-on-the-Lake', 'Lakeshore ', 'Concord', 'WIndsor',\n",
       "       'Morriston', 'Ridgetown', 'Assiniboia', 'Stoney Creek',\n",
       "       'Charing Cross', 'Saint-Hyacinthe', 'KINGSTON', 'KINGSVILLE',\n",
       "       'Barrie', 'Dearborn', 'Kingston ', 'Hamilton ', 'Fort Frances',\n",
       "       'Merlin ', 'OldCastle ', 'Paris', 'Chapleau', 'Tecumseh, ',\n",
       "       'Sioux Lookout', 'Wyoming', 'Mirabel', 'Chatham kent', 'Corunna',\n",
       "       'Morrisburg', 'Yellowknife', 'Wallacbeurg', 'PELEE ISLAND',\n",
       "       'Tecumseh ', 'wallaceburg', 'Thunder Bay', 'LaSalle ', 'harrow',\n",
       "       'Staples', 'Calgary', 'North Vancouver', 'Whetaley ',\n",
       "       'Belwood, Ontario', 'Ruthven '], dtype=object)"
      ]
     },
     "execution_count": 5,
     "metadata": {},
     "output_type": "execute_result"
    }
   ],
   "source": [
    "df['City'].unique()"
   ]
  },
  {
   "cell_type": "code",
   "execution_count": 6,
   "id": "b1e76372",
   "metadata": {},
   "outputs": [
    {
     "name": "stdout",
     "output_type": "stream",
     "text": [
      "[nan 'windsor' 'kingsville' 'chatham' 'lasalle' 'etobicoke' 'ridgetown'\n",
      " 'amherstburg' 'leamington' 'tecumseh' 'north york' 'wheatley'\n",
      " 'scarborough' 'kitchener' 'alliston' 'belle river' 'toronto' 'maidstone'\n",
      " 'brampton' 'mississauga' 'orléans' 'london' 'oldcastle' 'woodstock'\n",
      " 'collingwood' 'essex' 'blenheim' 'tilbury' 'guelph' 'dundas' 'strathroy'\n",
      " 'orillia' 'wallaceburg' 'fergus' 'emeryville' 'georgetown' 'lucan'\n",
      " 'thunder bay' 'shelburne' 'corunna' 'hamilton' 'goderich' 'sarnia'\n",
      " 'st. thomas' 'calgary' 'edmonton' 'ingersoll' 'thamesville' 'victoria'\n",
      " 'dutton' 'wingham' 'richmond hill' 'new hamburg' 'ottawa' 'lakeshore'\n",
      " 'west lorne' 'st thomas' 'london westmount gdns ltc' 'petrolia'\n",
      " 'lasalle.' 'owen sound' 'orangeville' 'toronto/ottawa' 'burlington'\n",
      " 'newmarket' 'whitby' 'waterloo' 'gta' 'port hope' 'blind river' 'dresden'\n",
      " 'stoney point' 'dryden' 'listowell' 'hanover' 'courtright'\n",
      " 'st. catharines' 'st. marys' 'markham' 'greater napanee' 'windsor / gta'\n",
      " 'thunderbay' 'pembroke' 'mooretown' 'ruthven' 'winchester' 'bolton'\n",
      " 'harrow' 'kingsvillle' 'banff' 'sudbury' 'bath' 'kincardine' 'mitchell'\n",
      " 'southfield' 'farmington hills' 'taylor' 'belleville' 'courtice'\n",
      " 'rr1 ilderton' 'kirkland lake' 'warren' 'kanata' 'caledonia'\n",
      " 'hiuntsville' 'vancouver' 'vaughan' 'windsor,' 'hagersville' 'cornwall'\n",
      " 'north bay' 'woodslee' 'cranbrook' 'aylmer' 'medicine hat' 'cambridge'\n",
      " 'thornhill' 'kamloops' 'peterborough' 'other' 'comber' 'pelee island'\n",
      " 'dover centre' 'trois-rivières' 'geraldton' 'golden' 'st catharines'\n",
      " 'oakville' 'stratford' 'kelowna' 'minett' 'amhersburg' 'kemptville'\n",
      " 'kenora' 'oshawa' 'watford' 'montreal' 'chatham-kent' 'brantford'\n",
      " 'port perry' 'cochrane' 'pakenham' 'dartmouth' 'glencoe' 'huntsville'\n",
      " 'niagara-on-the-lake' 'concord' 'morriston' 'assiniboia' 'stoney creek'\n",
      " 'charing cross' 'saint-hyacinthe' 'kingston' 'barrie' 'dearborn'\n",
      " 'fort frances' 'merlin' 'paris' 'chapleau' 'tecumseh,' 'sioux lookout'\n",
      " 'wyoming' 'mirabel' 'chatham kent' 'morrisburg' 'yellowknife'\n",
      " 'wallacbeurg' 'staples' 'north vancouver' 'whetaley' 'belwoodtario']\n"
     ]
    }
   ],
   "source": [
    "df['City'] = df['City'].str.lower()\n",
    "# Replace 'ON', 'on', and 'Ontario' with an empty string\n",
    "df['City'] = df['City'].str.replace(r'(?i)(, on|, ontario|,on|, ab|, bc| ontario| on)', '', regex=True)\n",
    "\n",
    "# To remove leading and trailing spaces\n",
    "df['City'] = df['City'].str.strip()\n",
    "\n",
    "# To remove extra spaces (if any)\n",
    "df['City'] = df['City'].str.replace('\\s+', ' ', regex=True)\n",
    "\n",
    "# Display unique values after removal\n",
    "unique_values = df['City'].unique()\n",
    "print(unique_values)\n"
   ]
  },
  {
   "cell_type": "code",
   "execution_count": 7,
   "id": "0bc331d4",
   "metadata": {},
   "outputs": [
    {
     "data": {
      "text/plain": [
       "array(['PAC', 'Placement ', nan, 'placement ', 'Job Shadow ', 'Placement',\n",
       "       'Orbis ', 'Career Fair ', 'Career Fair (first responder)',\n",
       "       'Job Posting ', 'Coordinator Contacts', 'Lido commitment letters ',\n",
       "       'coordinator contact list ', 'Coordinator contact list'],\n",
       "      dtype=object)"
      ]
     },
     "execution_count": 7,
     "metadata": {},
     "output_type": "execute_result"
    }
   ],
   "source": [
    "df['PAC/PLACE/CAREER'].unique()"
   ]
  },
  {
   "cell_type": "code",
   "execution_count": 8,
   "id": "294dcd07",
   "metadata": {},
   "outputs": [
    {
     "name": "stdout",
     "output_type": "stream",
     "text": [
      "['pac' 'placement' nan 'job shadow' 'orbis' 'career fair' 'job posting'\n",
      " 'coordinator contact' 'lido commitment letters']\n"
     ]
    }
   ],
   "source": [
    "df['PAC/PLACE/CAREER'] = df['PAC/PLACE/CAREER'].str.lower()\n",
    "# Replace 'ON', 'on', and 'Ontario' with an empty string\n",
    "df['PAC/PLACE/CAREER'] = df['PAC/PLACE/CAREER'].str.replace(r'(?i)( list|)', '', regex=True)\n",
    "\n",
    "# To remove leading and trailing spaces\n",
    "df['PAC/PLACE/CAREER'] = df['PAC/PLACE/CAREER'].str.strip()\n",
    "\n",
    "# To remove extra spaces (if any)\n",
    "df['PAC/PLACE/CAREER'] = df['PAC/PLACE/CAREER'].str.replace('\\s+', ' ', regex=True)\n",
    "\n",
    "df['PAC/PLACE/CAREER'] = df['PAC/PLACE/CAREER'].replace({\n",
    "    'career fair (first responder)': 'career fair',\n",
    "    'coordinator contacts': 'coordinator contact'\n",
    "})\n",
    "\n",
    "\n",
    "# Display unique values after removal\n",
    "unique_values = df['PAC/PLACE/CAREER'].unique()\n",
    "print(unique_values)"
   ]
  },
  {
   "cell_type": "code",
   "execution_count": 9,
   "id": "c8ae5eb7",
   "metadata": {},
   "outputs": [
    {
     "data": {
      "text/plain": [
       "Index(['PROGRAM NAME', 'PROGRAM CODE', 'PROGRAM CODE 2 ', 'PROGRAM CODE 3',\n",
       "       'COURSE CODE', 'COURSE CODE 2', 'COURSE CODE3', 'COURSE CODE 4',\n",
       "       'WIL TYPE', 'WIL TYPE 2', 'WIL TYPE 3', 'WIL TYPE 4', 'Primary Key',\n",
       "       'Contact Name', 'Address', 'City', 'Postal Code', 'Paid/Unpaid',\n",
       "       '22F\\n# of Students Placed', '23W\\n# of Students Placed',\n",
       "       'PAC/PLACE/CAREER'],\n",
       "      dtype='object')"
      ]
     },
     "execution_count": 9,
     "metadata": {},
     "output_type": "execute_result"
    }
   ],
   "source": [
    "df.keys()"
   ]
  },
  {
   "cell_type": "code",
   "execution_count": 10,
   "id": "c836049d",
   "metadata": {},
   "outputs": [
    {
     "data": {
      "text/html": [
       "<div>\n",
       "<style scoped>\n",
       "    .dataframe tbody tr th:only-of-type {\n",
       "        vertical-align: middle;\n",
       "    }\n",
       "\n",
       "    .dataframe tbody tr th {\n",
       "        vertical-align: top;\n",
       "    }\n",
       "\n",
       "    .dataframe thead th {\n",
       "        text-align: right;\n",
       "    }\n",
       "</style>\n",
       "<table border=\"1\" class=\"dataframe\">\n",
       "  <thead>\n",
       "    <tr style=\"text-align: right;\">\n",
       "      <th></th>\n",
       "      <th>PROGRAM NAME</th>\n",
       "      <th>PROGRAM CODE</th>\n",
       "      <th>PROGRAM CODE 2</th>\n",
       "      <th>PROGRAM CODE 3</th>\n",
       "      <th>COURSE CODE</th>\n",
       "      <th>COURSE CODE 2</th>\n",
       "      <th>COURSE CODE3</th>\n",
       "      <th>COURSE CODE 4</th>\n",
       "      <th>WIL TYPE</th>\n",
       "      <th>WIL TYPE 2</th>\n",
       "      <th>...</th>\n",
       "      <th>WIL TYPE 4</th>\n",
       "      <th>Primary Key</th>\n",
       "      <th>Contact Name</th>\n",
       "      <th>Address</th>\n",
       "      <th>City</th>\n",
       "      <th>Postal Code</th>\n",
       "      <th>Paid/Unpaid</th>\n",
       "      <th>22F\\n# of Students Placed</th>\n",
       "      <th>23W\\n# of Students Placed</th>\n",
       "      <th>PAC/PLACE/CAREER</th>\n",
       "    </tr>\n",
       "  </thead>\n",
       "  <tbody>\n",
       "  </tbody>\n",
       "</table>\n",
       "<p>0 rows × 21 columns</p>\n",
       "</div>"
      ],
      "text/plain": [
       "Empty DataFrame\n",
       "Columns: [PROGRAM NAME, PROGRAM CODE, PROGRAM CODE 2 , PROGRAM CODE 3, COURSE CODE, COURSE CODE 2, COURSE CODE3, COURSE CODE 4, WIL TYPE, WIL TYPE 2, WIL TYPE 3, WIL TYPE 4, Primary Key, Contact Name, Address, City, Postal Code, Paid/Unpaid, 22F\n",
       "# of Students Placed, 23W\n",
       "# of Students Placed, PAC/PLACE/CAREER]\n",
       "Index: []\n",
       "\n",
       "[0 rows x 21 columns]"
      ]
     },
     "execution_count": 10,
     "metadata": {},
     "output_type": "execute_result"
    }
   ],
   "source": [
    "df[df[\"PROGRAM NAME\"].isnull() & df[[\"PROGRAM CODE\", \"PROGRAM CODE 2 \", \"PROGRAM CODE 3\"]].notnull().any(axis=1)]"
   ]
  },
  {
   "cell_type": "code",
   "execution_count": 11,
   "id": "ce7106a7",
   "metadata": {},
   "outputs": [
    {
     "data": {
      "text/html": [
       "<div>\n",
       "<style scoped>\n",
       "    .dataframe tbody tr th:only-of-type {\n",
       "        vertical-align: middle;\n",
       "    }\n",
       "\n",
       "    .dataframe tbody tr th {\n",
       "        vertical-align: top;\n",
       "    }\n",
       "\n",
       "    .dataframe thead th {\n",
       "        text-align: right;\n",
       "    }\n",
       "</style>\n",
       "<table border=\"1\" class=\"dataframe\">\n",
       "  <thead>\n",
       "    <tr style=\"text-align: right;\">\n",
       "      <th></th>\n",
       "      <th>PROGRAM NAME</th>\n",
       "      <th>PROGRAM CODE</th>\n",
       "      <th>PROGRAM CODE 2</th>\n",
       "      <th>PROGRAM CODE 3</th>\n",
       "      <th>COURSE CODE</th>\n",
       "      <th>COURSE CODE 2</th>\n",
       "      <th>COURSE CODE3</th>\n",
       "      <th>COURSE CODE 4</th>\n",
       "      <th>WIL TYPE</th>\n",
       "      <th>WIL TYPE 2</th>\n",
       "      <th>...</th>\n",
       "      <th>WIL TYPE 4</th>\n",
       "      <th>Primary Key</th>\n",
       "      <th>Contact Name</th>\n",
       "      <th>Address</th>\n",
       "      <th>City</th>\n",
       "      <th>Postal Code</th>\n",
       "      <th>Paid/Unpaid</th>\n",
       "      <th>22F\\n# of Students Placed</th>\n",
       "      <th>23W\\n# of Students Placed</th>\n",
       "      <th>PAC/PLACE/CAREER</th>\n",
       "    </tr>\n",
       "  </thead>\n",
       "  <tbody>\n",
       "  </tbody>\n",
       "</table>\n",
       "<p>0 rows × 21 columns</p>\n",
       "</div>"
      ],
      "text/plain": [
       "Empty DataFrame\n",
       "Columns: [PROGRAM NAME, PROGRAM CODE, PROGRAM CODE 2 , PROGRAM CODE 3, COURSE CODE, COURSE CODE 2, COURSE CODE3, COURSE CODE 4, WIL TYPE, WIL TYPE 2, WIL TYPE 3, WIL TYPE 4, Primary Key, Contact Name, Address, City, Postal Code, Paid/Unpaid, 22F\n",
       "# of Students Placed, 23W\n",
       "# of Students Placed, PAC/PLACE/CAREER]\n",
       "Index: []\n",
       "\n",
       "[0 rows x 21 columns]"
      ]
     },
     "execution_count": 11,
     "metadata": {},
     "output_type": "execute_result"
    }
   ],
   "source": [
    "df[df[\"COURSE CODE\"].isnull() & df[[\"COURSE CODE 2\", \"COURSE CODE3\", \"COURSE CODE 4\"]].notnull().any(axis=1)]"
   ]
  },
  {
   "cell_type": "code",
   "execution_count": 12,
   "id": "de2b9bc5",
   "metadata": {},
   "outputs": [
    {
     "data": {
      "text/html": [
       "<div>\n",
       "<style scoped>\n",
       "    .dataframe tbody tr th:only-of-type {\n",
       "        vertical-align: middle;\n",
       "    }\n",
       "\n",
       "    .dataframe tbody tr th {\n",
       "        vertical-align: top;\n",
       "    }\n",
       "\n",
       "    .dataframe thead th {\n",
       "        text-align: right;\n",
       "    }\n",
       "</style>\n",
       "<table border=\"1\" class=\"dataframe\">\n",
       "  <thead>\n",
       "    <tr style=\"text-align: right;\">\n",
       "      <th></th>\n",
       "      <th>PROGRAM NAME</th>\n",
       "      <th>PROGRAM CODE</th>\n",
       "      <th>PROGRAM CODE 2</th>\n",
       "      <th>PROGRAM CODE 3</th>\n",
       "      <th>COURSE CODE</th>\n",
       "      <th>COURSE CODE 2</th>\n",
       "      <th>COURSE CODE3</th>\n",
       "      <th>COURSE CODE 4</th>\n",
       "      <th>WIL TYPE</th>\n",
       "      <th>WIL TYPE 2</th>\n",
       "      <th>...</th>\n",
       "      <th>WIL TYPE 4</th>\n",
       "      <th>Primary Key</th>\n",
       "      <th>Contact Name</th>\n",
       "      <th>Address</th>\n",
       "      <th>City</th>\n",
       "      <th>Postal Code</th>\n",
       "      <th>Paid/Unpaid</th>\n",
       "      <th>22F\\n# of Students Placed</th>\n",
       "      <th>23W\\n# of Students Placed</th>\n",
       "      <th>PAC/PLACE/CAREER</th>\n",
       "    </tr>\n",
       "  </thead>\n",
       "  <tbody>\n",
       "  </tbody>\n",
       "</table>\n",
       "<p>0 rows × 21 columns</p>\n",
       "</div>"
      ],
      "text/plain": [
       "Empty DataFrame\n",
       "Columns: [PROGRAM NAME, PROGRAM CODE, PROGRAM CODE 2 , PROGRAM CODE 3, COURSE CODE, COURSE CODE 2, COURSE CODE3, COURSE CODE 4, WIL TYPE, WIL TYPE 2, WIL TYPE 3, WIL TYPE 4, Primary Key, Contact Name, Address, City, Postal Code, Paid/Unpaid, 22F\n",
       "# of Students Placed, 23W\n",
       "# of Students Placed, PAC/PLACE/CAREER]\n",
       "Index: []\n",
       "\n",
       "[0 rows x 21 columns]"
      ]
     },
     "execution_count": 12,
     "metadata": {},
     "output_type": "execute_result"
    }
   ],
   "source": [
    "df[df[\"WIL TYPE\"].isnull() & df[[\"WIL TYPE 2\", \"WIL TYPE 3\", \"WIL TYPE 4\"]].notnull().any(axis=1)]"
   ]
  },
  {
   "cell_type": "code",
   "execution_count": 13,
   "id": "13bc0c4e",
   "metadata": {},
   "outputs": [
    {
     "data": {
      "text/html": [
       "<div>\n",
       "<style scoped>\n",
       "    .dataframe tbody tr th:only-of-type {\n",
       "        vertical-align: middle;\n",
       "    }\n",
       "\n",
       "    .dataframe tbody tr th {\n",
       "        vertical-align: top;\n",
       "    }\n",
       "\n",
       "    .dataframe thead th {\n",
       "        text-align: right;\n",
       "    }\n",
       "</style>\n",
       "<table border=\"1\" class=\"dataframe\">\n",
       "  <thead>\n",
       "    <tr style=\"text-align: right;\">\n",
       "      <th></th>\n",
       "      <th>PROGRAM NAME</th>\n",
       "      <th>PROGRAM CODE</th>\n",
       "      <th>PROGRAM CODE 2</th>\n",
       "      <th>PROGRAM CODE 3</th>\n",
       "      <th>COURSE CODE</th>\n",
       "      <th>COURSE CODE 2</th>\n",
       "      <th>COURSE CODE3</th>\n",
       "      <th>COURSE CODE 4</th>\n",
       "      <th>WIL TYPE</th>\n",
       "      <th>WIL TYPE 2</th>\n",
       "      <th>...</th>\n",
       "      <th>WIL TYPE 4</th>\n",
       "      <th>Primary Key</th>\n",
       "      <th>Contact Name</th>\n",
       "      <th>Address</th>\n",
       "      <th>City</th>\n",
       "      <th>Postal Code</th>\n",
       "      <th>Paid/Unpaid</th>\n",
       "      <th>22F\\n# of Students Placed</th>\n",
       "      <th>23W\\n# of Students Placed</th>\n",
       "      <th>PAC/PLACE/CAREER</th>\n",
       "    </tr>\n",
       "  </thead>\n",
       "  <tbody>\n",
       "    <tr>\n",
       "      <th>828</th>\n",
       "      <td>Collborative Nursing</td>\n",
       "      <td>H850</td>\n",
       "      <td>K950</td>\n",
       "      <td>NaN</td>\n",
       "      <td>NaN</td>\n",
       "      <td>NaN</td>\n",
       "      <td>NaN</td>\n",
       "      <td>NaN</td>\n",
       "      <td>NaN</td>\n",
       "      <td>NaN</td>\n",
       "      <td>...</td>\n",
       "      <td>NaN</td>\n",
       "      <td>ef5cd56c-b783-41f4-b39d-da9c4e2afa38</td>\n",
       "      <td>Felicia</td>\n",
       "      <td>Ouellette Ave, Windsor, ON N9A 4J8</td>\n",
       "      <td>NaN</td>\n",
       "      <td>ON N9A 4J8</td>\n",
       "      <td>NaN</td>\n",
       "      <td>3.0</td>\n",
       "      <td>NaN</td>\n",
       "      <td>placement</td>\n",
       "    </tr>\n",
       "    <tr>\n",
       "      <th>969</th>\n",
       "      <td>Business Administration - Human Resources</td>\n",
       "      <td>B880</td>\n",
       "      <td>NaN</td>\n",
       "      <td>NaN</td>\n",
       "      <td>NaN</td>\n",
       "      <td>NaN</td>\n",
       "      <td>NaN</td>\n",
       "      <td>NaN</td>\n",
       "      <td>NaN</td>\n",
       "      <td>NaN</td>\n",
       "      <td>...</td>\n",
       "      <td>NaN</td>\n",
       "      <td>74333218-c876-4870-bd0d-d7f12c50e178</td>\n",
       "      <td>Michelle</td>\n",
       "      <td>Sandwich St S.</td>\n",
       "      <td>NaN</td>\n",
       "      <td>N9V 2A5</td>\n",
       "      <td>NaN</td>\n",
       "      <td>3.0</td>\n",
       "      <td>NaN</td>\n",
       "      <td>placement</td>\n",
       "    </tr>\n",
       "  </tbody>\n",
       "</table>\n",
       "<p>2 rows × 21 columns</p>\n",
       "</div>"
      ],
      "text/plain": [
       "                                  PROGRAM NAME PROGRAM CODE PROGRAM CODE 2   \\\n",
       "828                       Collborative Nursing         H850            K950   \n",
       "969  Business Administration - Human Resources         B880             NaN   \n",
       "\n",
       "    PROGRAM CODE 3 COURSE CODE COURSE CODE 2 COURSE CODE3 COURSE CODE 4  \\\n",
       "828            NaN         NaN           NaN          NaN           NaN   \n",
       "969            NaN         NaN           NaN          NaN           NaN   \n",
       "\n",
       "    WIL TYPE WIL TYPE 2  ... WIL TYPE 4                           Primary Key  \\\n",
       "828      NaN        NaN  ...        NaN  ef5cd56c-b783-41f4-b39d-da9c4e2afa38   \n",
       "969      NaN        NaN  ...        NaN  74333218-c876-4870-bd0d-d7f12c50e178   \n",
       "\n",
       "    Contact Name                             Address City Postal Code  \\\n",
       "828      Felicia  Ouellette Ave, Windsor, ON N9A 4J8  NaN  ON N9A 4J8   \n",
       "969     Michelle                     Sandwich St S.   NaN     N9V 2A5   \n",
       "\n",
       "    Paid/Unpaid  22F\\n# of Students Placed  23W\\n# of Students Placed  \\\n",
       "828         NaN                        3.0                        NaN   \n",
       "969         NaN                        3.0                        NaN   \n",
       "\n",
       "     PAC/PLACE/CAREER  \n",
       "828         placement  \n",
       "969         placement  \n",
       "\n",
       "[2 rows x 21 columns]"
      ]
     },
     "execution_count": 13,
     "metadata": {},
     "output_type": "execute_result"
    }
   ],
   "source": [
    "df[df[\"City\"].isnull() & df[[\"Postal Code\"]].notnull().any(axis=1)]"
   ]
  },
  {
   "cell_type": "code",
   "execution_count": 14,
   "id": "ba585c56",
   "metadata": {},
   "outputs": [],
   "source": [
    "dt = df[[\"PROGRAM NAME\", \"COURSE CODE\", \"WIL TYPE\", \"Contact Name\", 'Address', 'City', '22F\\n# of Students Placed', 'PAC/PLACE/CAREER']]"
   ]
  },
  {
   "cell_type": "code",
   "execution_count": 15,
   "id": "602199a4",
   "metadata": {},
   "outputs": [
    {
     "name": "stdout",
     "output_type": "stream",
     "text": [
      "<class 'pandas.core.frame.DataFrame'>\n",
      "RangeIndex: 4549 entries, 0 to 4548\n",
      "Data columns (total 8 columns):\n",
      " #   Column                    Non-Null Count  Dtype  \n",
      "---  ------                    --------------  -----  \n",
      " 0   PROGRAM NAME              2248 non-null   object \n",
      " 1   COURSE CODE               847 non-null    object \n",
      " 2   WIL TYPE                  827 non-null    object \n",
      " 3   Contact Name              4549 non-null   object \n",
      " 4   Address                   2058 non-null   object \n",
      " 5   City                      1905 non-null   object \n",
      " 6   22F\n",
      "# of Students Placed  726 non-null    float64\n",
      " 7   PAC/PLACE/CAREER          4394 non-null   object \n",
      "dtypes: float64(1), object(7)\n",
      "memory usage: 284.4+ KB\n"
     ]
    }
   ],
   "source": [
    "dt.info()"
   ]
  },
  {
   "cell_type": "code",
   "execution_count": 16,
   "id": "3648bf5e",
   "metadata": {},
   "outputs": [],
   "source": [
    "db = dt[dt[\"City\"].isnull() & df[[\"Address\"]].notnull().any(axis=1)]"
   ]
  },
  {
   "cell_type": "code",
   "execution_count": 17,
   "id": "719585bc",
   "metadata": {},
   "outputs": [],
   "source": [
    "filtered_df = dt[dt[\"City\"].isnull() & dt[[\"Address\"]].notnull().any(axis=1)]\n",
    "\n",
    "# Save the filtered DataFrame to a CSV file\n",
    "filtered_df.to_csv('address.csv', index=False)"
   ]
  },
  {
   "cell_type": "code",
   "execution_count": 18,
   "id": "586b0887",
   "metadata": {},
   "outputs": [
    {
     "name": "stderr",
     "output_type": "stream",
     "text": [
      "C:\\Users\\solan\\AppData\\Local\\Temp\\ipykernel_23312\\1651746350.py:1: SettingWithCopyWarning: \n",
      "A value is trying to be set on a copy of a slice from a DataFrame.\n",
      "Try using .loc[row_indexer,col_indexer] = value instead\n",
      "\n",
      "See the caveats in the documentation: https://pandas.pydata.org/pandas-docs/stable/user_guide/indexing.html#returning-a-view-versus-a-copy\n",
      "  db['City'] = db['Address'].str.split(',').str[1].str.strip()\n"
     ]
    }
   ],
   "source": [
    "db['City'] = db['Address'].str.split(',').str[1].str.strip()"
   ]
  },
  {
   "cell_type": "code",
   "execution_count": 19,
   "id": "a70276a5",
   "metadata": {},
   "outputs": [
    {
     "data": {
      "text/plain": [
       "828                Windsor\n",
       "969                    NaN\n",
       "982                    NaN\n",
       "1023                   NaN\n",
       "1032                   NaN\n",
       "               ...        \n",
       "3794       CHATHAM ONTARIO\n",
       "3795       WINDSOR ONTARIO\n",
       "3796              McGregor\n",
       "3797    Windsor ON N9C 2G4\n",
       "3798    Windsor ON N8N 5G2\n",
       "Name: City, Length: 312, dtype: object"
      ]
     },
     "execution_count": 19,
     "metadata": {},
     "output_type": "execute_result"
    }
   ],
   "source": [
    "db['City']"
   ]
  },
  {
   "cell_type": "code",
   "execution_count": 20,
   "id": "47c99b5c",
   "metadata": {},
   "outputs": [],
   "source": [
    "#db.to_csv('add.csv', index=False)"
   ]
  },
  {
   "cell_type": "code",
   "execution_count": 21,
   "id": "29f83dda",
   "metadata": {},
   "outputs": [
    {
     "name": "stderr",
     "output_type": "stream",
     "text": [
      "C:\\Users\\solan\\AppData\\Local\\Temp\\ipykernel_23312\\655770842.py:4: SettingWithCopyWarning: \n",
      "A value is trying to be set on a copy of a slice from a DataFrame\n",
      "\n",
      "See the caveats in the documentation: https://pandas.pydata.org/pandas-docs/stable/user_guide/indexing.html#returning-a-view-versus-a-copy\n",
      "  dt.drop(rows_to_delete, inplace=True)\n"
     ]
    }
   ],
   "source": [
    "rows_to_delete = dt[dt[\"City\"].isnull() & dt[[\"Address\"]].notnull().any(axis=1)].index\n",
    "\n",
    "# Drop the rows based on the index\n",
    "dt.drop(rows_to_delete, inplace=True)"
   ]
  },
  {
   "cell_type": "code",
   "execution_count": 22,
   "id": "b2d054d1",
   "metadata": {},
   "outputs": [
    {
     "name": "stdout",
     "output_type": "stream",
     "text": [
      "<class 'pandas.core.frame.DataFrame'>\n",
      "Int64Index: 4237 entries, 0 to 4548\n",
      "Data columns (total 8 columns):\n",
      " #   Column                    Non-Null Count  Dtype  \n",
      "---  ------                    --------------  -----  \n",
      " 0   PROGRAM NAME              1937 non-null   object \n",
      " 1   COURSE CODE               542 non-null    object \n",
      " 2   WIL TYPE                  523 non-null    object \n",
      " 3   Contact Name              4237 non-null   object \n",
      " 4   Address                   1746 non-null   object \n",
      " 5   City                      1905 non-null   object \n",
      " 6   22F\n",
      "# of Students Placed  601 non-null    float64\n",
      " 7   PAC/PLACE/CAREER          4142 non-null   object \n",
      "dtypes: float64(1), object(7)\n",
      "memory usage: 297.9+ KB\n"
     ]
    }
   ],
   "source": [
    "dt.info()"
   ]
  },
  {
   "cell_type": "code",
   "execution_count": 23,
   "id": "69f4774c",
   "metadata": {},
   "outputs": [],
   "source": [
    "new_data = pd.read_csv('final_add.csv')\n",
    "\n",
    "# Concatenate 'new_data' with 'dt'\n",
    "dt = pd.concat([dt, new_data], ignore_index=True)"
   ]
  },
  {
   "cell_type": "code",
   "execution_count": 24,
   "id": "63ccf4da",
   "metadata": {},
   "outputs": [
    {
     "name": "stdout",
     "output_type": "stream",
     "text": [
      "<class 'pandas.core.frame.DataFrame'>\n",
      "RangeIndex: 4549 entries, 0 to 4548\n",
      "Data columns (total 8 columns):\n",
      " #   Column                    Non-Null Count  Dtype  \n",
      "---  ------                    --------------  -----  \n",
      " 0   PROGRAM NAME              2248 non-null   object \n",
      " 1   COURSE CODE               847 non-null    object \n",
      " 2   WIL TYPE                  827 non-null    object \n",
      " 3   Contact Name              4549 non-null   object \n",
      " 4   Address                   2058 non-null   object \n",
      " 5   City                      2217 non-null   object \n",
      " 6   22F\n",
      "# of Students Placed  726 non-null    float64\n",
      " 7   PAC/PLACE/CAREER          4394 non-null   object \n",
      "dtypes: float64(1), object(7)\n",
      "memory usage: 284.4+ KB\n"
     ]
    }
   ],
   "source": [
    "dt.info()"
   ]
  },
  {
   "cell_type": "code",
   "execution_count": 25,
   "id": "edcaca6c",
   "metadata": {},
   "outputs": [],
   "source": [
    "dt = dt.drop(\"Address\", axis=1)"
   ]
  },
  {
   "cell_type": "code",
   "execution_count": 26,
   "id": "12444857",
   "metadata": {},
   "outputs": [
    {
     "name": "stdout",
     "output_type": "stream",
     "text": [
      "<class 'pandas.core.frame.DataFrame'>\n",
      "RangeIndex: 4549 entries, 0 to 4548\n",
      "Data columns (total 7 columns):\n",
      " #   Column                    Non-Null Count  Dtype  \n",
      "---  ------                    --------------  -----  \n",
      " 0   PROGRAM NAME              2248 non-null   object \n",
      " 1   COURSE CODE               847 non-null    object \n",
      " 2   WIL TYPE                  827 non-null    object \n",
      " 3   Contact Name              4549 non-null   object \n",
      " 4   City                      2217 non-null   object \n",
      " 5   22F\n",
      "# of Students Placed  726 non-null    float64\n",
      " 6   PAC/PLACE/CAREER          4394 non-null   object \n",
      "dtypes: float64(1), object(6)\n",
      "memory usage: 248.9+ KB\n"
     ]
    }
   ],
   "source": [
    "dt.info()"
   ]
  },
  {
   "cell_type": "code",
   "execution_count": 27,
   "id": "80128bc6",
   "metadata": {},
   "outputs": [
    {
     "data": {
      "text/plain": [
       "array([nan, 'windsor', 'kingsville', 'chatham', 'lasalle', 'etobicoke',\n",
       "       'ridgetown', 'amherstburg', 'leamington', 'tecumseh', 'north york',\n",
       "       'wheatley', 'scarborough', 'kitchener', 'alliston', 'belle river',\n",
       "       'toronto', 'maidstone', 'brampton', 'mississauga', 'orléans',\n",
       "       'london', 'oldcastle', 'woodstock', 'collingwood', 'essex',\n",
       "       'blenheim', 'tilbury', 'guelph', 'dundas', 'strathroy', 'orillia',\n",
       "       'wallaceburg', 'fergus', 'emeryville', 'georgetown', 'lucan',\n",
       "       'thunder bay', 'shelburne', 'corunna', 'hamilton', 'goderich',\n",
       "       'sarnia', 'st. thomas', 'calgary', 'edmonton', 'ingersoll',\n",
       "       'thamesville', 'victoria', 'dutton', 'wingham', 'richmond hill',\n",
       "       'new hamburg', 'ottawa', 'lakeshore', 'west lorne', 'st thomas',\n",
       "       'london westmount gdns ltc', 'petrolia', 'lasalle.', 'owen sound',\n",
       "       'orangeville', 'toronto/ottawa', 'burlington', 'newmarket',\n",
       "       'whitby', 'waterloo', 'gta', 'port hope', 'blind river', 'dresden',\n",
       "       'stoney point', 'dryden', 'listowell', 'hanover', 'courtright',\n",
       "       'st. catharines', 'st. marys', 'markham', 'greater napanee',\n",
       "       'windsor / gta', 'thunderbay', 'pembroke', 'mooretown', 'ruthven',\n",
       "       'winchester', 'bolton', 'harrow', 'kingsvillle', 'banff',\n",
       "       'sudbury', 'bath', 'kincardine', 'mitchell', 'southfield',\n",
       "       'farmington hills', 'taylor', 'belleville', 'courtice',\n",
       "       'rr1 ilderton', 'kirkland lake', 'warren', 'kanata', 'caledonia',\n",
       "       'hiuntsville', 'vancouver', 'vaughan', 'windsor,', 'hagersville',\n",
       "       'cornwall', 'north bay', 'woodslee', 'cranbrook', 'aylmer',\n",
       "       'medicine hat', 'cambridge', 'thornhill', 'kamloops',\n",
       "       'peterborough', 'other', 'comber', 'pelee island', 'dover centre',\n",
       "       'trois-rivières', 'geraldton', 'golden', 'st catharines',\n",
       "       'oakville', 'stratford', 'kelowna', 'minett', 'amhersburg',\n",
       "       'kemptville', 'kenora', 'oshawa', 'watford', 'montreal',\n",
       "       'chatham-kent', 'brantford', 'port perry', 'cochrane', 'pakenham',\n",
       "       'dartmouth', 'glencoe', 'huntsville', 'niagara-on-the-lake',\n",
       "       'concord', 'morriston', 'assiniboia', 'stoney creek',\n",
       "       'charing cross', 'saint-hyacinthe', 'kingston', 'barrie',\n",
       "       'dearborn', 'fort frances', 'merlin', 'paris', 'chapleau',\n",
       "       'tecumseh,', 'sioux lookout', 'wyoming', 'mirabel', 'chatham kent',\n",
       "       'morrisburg', 'yellowknife', 'wallacbeurg', 'staples',\n",
       "       'north vancouver', 'whetaley', 'belwoodtario', 'arkona',\n",
       "       'tillsonburg', 'windsor on', 'winsdor', 'point edward',\n",
       "       'grand bend', 'grand valley', 'komoka', 'mount brydges', 'newbury',\n",
       "       'waterford', 'sault ste. marie', 'horrow', 'oldcaste',\n",
       "       'old castle', 'rodney', 'mcgregor'], dtype=object)"
      ]
     },
     "execution_count": 27,
     "metadata": {},
     "output_type": "execute_result"
    }
   ],
   "source": [
    "dt['City'] = dt['City'].str.lower()\n",
    "dt['City'].unique()"
   ]
  },
  {
   "cell_type": "code",
   "execution_count": 28,
   "id": "bcb3bd4a",
   "metadata": {},
   "outputs": [],
   "source": [
    "replace_cols = ['City']\n",
    "for i in replace_cols : \n",
    "    dt[i]  = dt[i].replace({'winsdor' : 'windsor', 'kingsvillle' : 'kingsville', 'old castle' : 'oldcastle', 'oldcaste' : 'oldcastle', 'mcdougall st suite' : 'windsor', 'st thomas' : 'st. thomas', 'london westmount gdns ltc' : 'london', 'tecumseh,' : 'tecumseh', 'windsor,' : 'windsor', 'chatham-kent' : 'chatham'})"
   ]
  },
  {
   "cell_type": "code",
   "execution_count": 29,
   "id": "d84ebbf6",
   "metadata": {},
   "outputs": [
    {
     "data": {
      "text/plain": [
       "array([nan, 'windsor', 'kingsville', 'chatham', 'lasalle', 'etobicoke',\n",
       "       'ridgetown', 'amherstburg', 'leamington', 'tecumseh', 'north york',\n",
       "       'wheatley', 'scarborough', 'kitchener', 'alliston', 'belle river',\n",
       "       'toronto', 'maidstone', 'brampton', 'mississauga', 'orléans',\n",
       "       'london', 'oldcastle', 'woodstock', 'collingwood', 'essex',\n",
       "       'blenheim', 'tilbury', 'guelph', 'dundas', 'strathroy', 'orillia',\n",
       "       'wallaceburg', 'fergus', 'emeryville', 'georgetown', 'lucan',\n",
       "       'thunder bay', 'shelburne', 'corunna', 'hamilton', 'goderich',\n",
       "       'sarnia', 'st. thomas', 'calgary', 'edmonton', 'ingersoll',\n",
       "       'thamesville', 'victoria', 'dutton', 'wingham', 'richmond hill',\n",
       "       'new hamburg', 'ottawa', 'lakeshore', 'west lorne', 'petrolia',\n",
       "       'lasalle.', 'owen sound', 'orangeville', 'toronto/ottawa',\n",
       "       'burlington', 'newmarket', 'whitby', 'waterloo', 'gta',\n",
       "       'port hope', 'blind river', 'dresden', 'stoney point', 'dryden',\n",
       "       'listowell', 'hanover', 'courtright', 'st. catharines',\n",
       "       'st. marys', 'markham', 'greater napanee', 'windsor / gta',\n",
       "       'thunderbay', 'pembroke', 'mooretown', 'ruthven', 'winchester',\n",
       "       'bolton', 'harrow', 'banff', 'sudbury', 'bath', 'kincardine',\n",
       "       'mitchell', 'southfield', 'farmington hills', 'taylor',\n",
       "       'belleville', 'courtice', 'rr1 ilderton', 'kirkland lake',\n",
       "       'warren', 'kanata', 'caledonia', 'hiuntsville', 'vancouver',\n",
       "       'vaughan', 'hagersville', 'cornwall', 'north bay', 'woodslee',\n",
       "       'cranbrook', 'aylmer', 'medicine hat', 'cambridge', 'thornhill',\n",
       "       'kamloops', 'peterborough', 'other', 'comber', 'pelee island',\n",
       "       'dover centre', 'trois-rivières', 'geraldton', 'golden',\n",
       "       'st catharines', 'oakville', 'stratford', 'kelowna', 'minett',\n",
       "       'amhersburg', 'kemptville', 'kenora', 'oshawa', 'watford',\n",
       "       'montreal', 'brantford', 'port perry', 'cochrane', 'pakenham',\n",
       "       'dartmouth', 'glencoe', 'huntsville', 'niagara-on-the-lake',\n",
       "       'concord', 'morriston', 'assiniboia', 'stoney creek',\n",
       "       'charing cross', 'saint-hyacinthe', 'kingston', 'barrie',\n",
       "       'dearborn', 'fort frances', 'merlin', 'paris', 'chapleau',\n",
       "       'sioux lookout', 'wyoming', 'mirabel', 'chatham kent',\n",
       "       'morrisburg', 'yellowknife', 'wallacbeurg', 'staples',\n",
       "       'north vancouver', 'whetaley', 'belwoodtario', 'arkona',\n",
       "       'tillsonburg', 'windsor on', 'point edward', 'grand bend',\n",
       "       'grand valley', 'komoka', 'mount brydges', 'newbury', 'waterford',\n",
       "       'sault ste. marie', 'horrow', 'rodney', 'mcgregor'], dtype=object)"
      ]
     },
     "execution_count": 29,
     "metadata": {},
     "output_type": "execute_result"
    }
   ],
   "source": [
    "dt['City'].unique()"
   ]
  },
  {
   "cell_type": "code",
   "execution_count": 30,
   "id": "187f90b3",
   "metadata": {},
   "outputs": [
    {
     "data": {
      "text/plain": [
       "Index(['PROGRAM NAME', 'COURSE CODE', 'WIL TYPE', 'Contact Name', 'City',\n",
       "       '22F\\n# of Students Placed', 'PAC/PLACE/CAREER'],\n",
       "      dtype='object')"
      ]
     },
     "execution_count": 30,
     "metadata": {},
     "output_type": "execute_result"
    }
   ],
   "source": [
    "dt.keys()"
   ]
  },
  {
   "cell_type": "code",
   "execution_count": 31,
   "id": "4f9b9ebf",
   "metadata": {},
   "outputs": [],
   "source": [
    "dt.rename(columns={'22F\\n# of Students Placed': 'StudentsPlacedFall22', 'PROGRAM NAME': 'ProgramName', 'COURSE CODE' : 'CourseCode', 'WIL TYPE' : 'WilType', 'Contact Name' : 'ContactName'}, inplace=True)"
   ]
  },
  {
   "cell_type": "code",
   "execution_count": 32,
   "id": "311cfa4a",
   "metadata": {},
   "outputs": [
    {
     "data": {
      "text/plain": [
       "Index(['ProgramName', 'CourseCode', 'WilType', 'ContactName', 'City',\n",
       "       'StudentsPlacedFall22', 'PAC/PLACE/CAREER'],\n",
       "      dtype='object')"
      ]
     },
     "execution_count": 32,
     "metadata": {},
     "output_type": "execute_result"
    }
   ],
   "source": [
    "dt.keys()"
   ]
  },
  {
   "cell_type": "code",
   "execution_count": 33,
   "id": "27bca3d2",
   "metadata": {},
   "outputs": [
    {
     "name": "stdout",
     "output_type": "stream",
     "text": [
      "<class 'pandas.core.frame.DataFrame'>\n",
      "RangeIndex: 4549 entries, 0 to 4548\n",
      "Data columns (total 7 columns):\n",
      " #   Column                Non-Null Count  Dtype  \n",
      "---  ------                --------------  -----  \n",
      " 0   ProgramName           2248 non-null   object \n",
      " 1   CourseCode            847 non-null    object \n",
      " 2   WilType               827 non-null    object \n",
      " 3   ContactName           4549 non-null   object \n",
      " 4   City                  2217 non-null   object \n",
      " 5   StudentsPlacedFall22  726 non-null    float64\n",
      " 6   PAC/PLACE/CAREER      4394 non-null   object \n",
      "dtypes: float64(1), object(6)\n",
      "memory usage: 248.9+ KB\n"
     ]
    }
   ],
   "source": [
    "dt.info()"
   ]
  },
  {
   "cell_type": "code",
   "execution_count": null,
   "id": "3180e6e9",
   "metadata": {},
   "outputs": [],
   "source": []
  },
  {
   "cell_type": "code",
   "execution_count": 34,
   "id": "d7e14dc9",
   "metadata": {},
   "outputs": [
    {
     "data": {
      "text/plain": [
       "array([nan, 'windsor', 'kingsville', 'chatham', 'lasalle', 'etobicoke',\n",
       "       'ridgetown', 'amherstburg', 'leamington', 'tecumseh', 'north york',\n",
       "       'wheatley', 'scarborough', 'kitchener', 'alliston', 'belle river',\n",
       "       'toronto', 'maidstone', 'brampton', 'mississauga', 'orléans',\n",
       "       'london', 'oldcastle', 'woodstock', 'collingwood', 'essex',\n",
       "       'blenheim', 'tilbury', 'guelph', 'dundas', 'strathroy', 'orillia',\n",
       "       'wallaceburg', 'fergus', 'emeryville', 'georgetown', 'lucan',\n",
       "       'thunder bay', 'shelburne', 'corunna', 'hamilton', 'goderich',\n",
       "       'sarnia', 'st. thomas', 'calgary', 'edmonton', 'ingersoll',\n",
       "       'thamesville', 'victoria', 'dutton', 'wingham', 'richmond hill',\n",
       "       'new hamburg', 'ottawa', 'lakeshore', 'west lorne', 'petrolia',\n",
       "       'lasalle.', 'owen sound', 'orangeville', 'toronto/ottawa',\n",
       "       'burlington', 'newmarket', 'whitby', 'waterloo', 'gta',\n",
       "       'port hope', 'blind river', 'dresden', 'stoney point', 'dryden',\n",
       "       'listowell', 'hanover', 'courtright', 'st. catharines',\n",
       "       'st. marys', 'markham', 'greater napanee', 'thunderbay',\n",
       "       'pembroke', 'mooretown', 'ruthven', 'winchester', 'bolton',\n",
       "       'harrow', 'banff', 'sudbury', 'bath', 'kincardine', 'mitchell',\n",
       "       'southfield', 'farmington hills', 'taylor', 'belleville',\n",
       "       'courtice', 'rr1 ilderton', 'kirkland lake', 'warren', 'kanata',\n",
       "       'caledonia', 'hiuntsville', 'vancouver', 'vaughan', 'hagersville',\n",
       "       'cornwall', 'north bay', 'woodslee', 'cranbrook', 'aylmer',\n",
       "       'medicine hat', 'cambridge', 'thornhill', 'kamloops',\n",
       "       'peterborough', 'other', 'comber', 'pelee island', 'dover centre',\n",
       "       'trois-rivières', 'geraldton', 'golden', 'st catharines',\n",
       "       'oakville', 'stratford', 'kelowna', 'minett', 'amhersburg',\n",
       "       'kemptville', 'kenora', 'oshawa', 'watford', 'montreal',\n",
       "       'brantford', 'port perry', 'cochrane', 'pakenham', 'dartmouth',\n",
       "       'glencoe', 'huntsville', 'niagara-on-the-lake', 'concord',\n",
       "       'morriston', 'assiniboia', 'stoney creek', 'charing cross',\n",
       "       'saint-hyacinthe', 'kingston', 'barrie', 'dearborn',\n",
       "       'fort frances', 'merlin', 'paris', 'chapleau', 'sioux lookout',\n",
       "       'wyoming', 'mirabel', 'chatham kent', 'morrisburg', 'yellowknife',\n",
       "       'wallacbeurg', 'staples', 'north vancouver', 'whetaley',\n",
       "       'belwoodtario', 'arkona', 'tillsonburg', 'point edward',\n",
       "       'grand bend', 'grand valley', 'komoka', 'mount brydges', 'newbury',\n",
       "       'waterford', 'sault ste. marie', 'horrow', 'rodney', 'mcgregor'],\n",
       "      dtype=object)"
      ]
     },
     "execution_count": 34,
     "metadata": {},
     "output_type": "execute_result"
    }
   ],
   "source": [
    "dt['City'] = dt['City'].apply(lambda x: 'windsor' if isinstance(x, str) and 'windsor' in x.lower() else x)\n",
    "dt['City'].unique()"
   ]
  },
  {
   "cell_type": "code",
   "execution_count": 35,
   "id": "f9544ff2",
   "metadata": {},
   "outputs": [],
   "source": [
    "replace_cols = ['City']\n",
    "for i in replace_cols : \n",
    "    dt[i]  = dt[i].replace({'chatham kent' : 'chatham-kent', 'niagara-on-the-lake' : 'niagara', 'rr1 ilderton' : 'ilderton', 'toronto/ottawa' : 'toronto', 'amhersburg' : 'amherstburg', 'harrow' : 'essex', 'horrow' : 'essex', 'huintsville' : 'huntsville', 'north vancouver' : 'vancouver', 'wallacburg' : 'wallaceburg', 'whetaley' : 'wheatley', 'chatham' : 'chatham-kent', 'lasalle.' : 'lasalle'})"
   ]
  },
  {
   "cell_type": "code",
   "execution_count": 36,
   "id": "dbf8b97f",
   "metadata": {},
   "outputs": [
    {
     "data": {
      "text/plain": [
       "array([nan, 'windsor', 'kingsville', 'chatham-kent', 'lasalle',\n",
       "       'etobicoke', 'ridgetown', 'amherstburg', 'leamington', 'tecumseh',\n",
       "       'north york', 'wheatley', 'scarborough', 'kitchener', 'alliston',\n",
       "       'belle river', 'toronto', 'maidstone', 'brampton', 'mississauga',\n",
       "       'orléans', 'london', 'oldcastle', 'woodstock', 'collingwood',\n",
       "       'essex', 'blenheim', 'tilbury', 'guelph', 'dundas', 'strathroy',\n",
       "       'orillia', 'wallaceburg', 'fergus', 'emeryville', 'georgetown',\n",
       "       'lucan', 'thunder bay', 'shelburne', 'corunna', 'hamilton',\n",
       "       'goderich', 'sarnia', 'st. thomas', 'calgary', 'edmonton',\n",
       "       'ingersoll', 'thamesville', 'victoria', 'dutton', 'wingham',\n",
       "       'richmond hill', 'new hamburg', 'ottawa', 'lakeshore',\n",
       "       'west lorne', 'petrolia', 'owen sound', 'orangeville',\n",
       "       'burlington', 'newmarket', 'whitby', 'waterloo', 'gta',\n",
       "       'port hope', 'blind river', 'dresden', 'stoney point', 'dryden',\n",
       "       'listowell', 'hanover', 'courtright', 'st. catharines',\n",
       "       'st. marys', 'markham', 'greater napanee', 'thunderbay',\n",
       "       'pembroke', 'mooretown', 'ruthven', 'winchester', 'bolton',\n",
       "       'banff', 'sudbury', 'bath', 'kincardine', 'mitchell', 'southfield',\n",
       "       'farmington hills', 'taylor', 'belleville', 'courtice', 'ilderton',\n",
       "       'kirkland lake', 'warren', 'kanata', 'caledonia', 'hiuntsville',\n",
       "       'vancouver', 'vaughan', 'hagersville', 'cornwall', 'north bay',\n",
       "       'woodslee', 'cranbrook', 'aylmer', 'medicine hat', 'cambridge',\n",
       "       'thornhill', 'kamloops', 'peterborough', 'other', 'comber',\n",
       "       'pelee island', 'dover centre', 'trois-rivières', 'geraldton',\n",
       "       'golden', 'st catharines', 'oakville', 'stratford', 'kelowna',\n",
       "       'minett', 'kemptville', 'kenora', 'oshawa', 'watford', 'montreal',\n",
       "       'brantford', 'port perry', 'cochrane', 'pakenham', 'dartmouth',\n",
       "       'glencoe', 'huntsville', 'niagara', 'concord', 'morriston',\n",
       "       'assiniboia', 'stoney creek', 'charing cross', 'saint-hyacinthe',\n",
       "       'kingston', 'barrie', 'dearborn', 'fort frances', 'merlin',\n",
       "       'paris', 'chapleau', 'sioux lookout', 'wyoming', 'mirabel',\n",
       "       'morrisburg', 'yellowknife', 'wallacbeurg', 'staples',\n",
       "       'belwoodtario', 'arkona', 'tillsonburg', 'point edward',\n",
       "       'grand bend', 'grand valley', 'komoka', 'mount brydges', 'newbury',\n",
       "       'waterford', 'sault ste. marie', 'rodney', 'mcgregor'],\n",
       "      dtype=object)"
      ]
     },
     "execution_count": 36,
     "metadata": {},
     "output_type": "execute_result"
    }
   ],
   "source": [
    "dt['City'].unique()"
   ]
  },
  {
   "cell_type": "code",
   "execution_count": 47,
   "id": "de9b4908",
   "metadata": {},
   "outputs": [
    {
     "data": {
      "text/plain": [
       "Index(['ProgramName', 'CourseCode', 'WilType', 'ContactName', 'City',\n",
       "       'StudentsPlacedFall22', 'PAC/PLACE/CAREER'],\n",
       "      dtype='object')"
      ]
     },
     "execution_count": 47,
     "metadata": {},
     "output_type": "execute_result"
    }
   ],
   "source": [
    "dt.keys()"
   ]
  },
  {
   "cell_type": "code",
   "execution_count": 55,
   "id": "9a115835",
   "metadata": {},
   "outputs": [
    {
     "data": {
      "text/html": [
       "<div>\n",
       "<style scoped>\n",
       "    .dataframe tbody tr th:only-of-type {\n",
       "        vertical-align: middle;\n",
       "    }\n",
       "\n",
       "    .dataframe tbody tr th {\n",
       "        vertical-align: top;\n",
       "    }\n",
       "\n",
       "    .dataframe thead th {\n",
       "        text-align: right;\n",
       "    }\n",
       "</style>\n",
       "<table border=\"1\" class=\"dataframe\">\n",
       "  <thead>\n",
       "    <tr style=\"text-align: right;\">\n",
       "      <th></th>\n",
       "      <th>ProgramName</th>\n",
       "      <th>CourseCode</th>\n",
       "      <th>WilType</th>\n",
       "      <th>ContactName</th>\n",
       "      <th>City</th>\n",
       "      <th>StudentsPlacedFall22</th>\n",
       "      <th>PAC/PLACE/CAREER</th>\n",
       "    </tr>\n",
       "  </thead>\n",
       "  <tbody>\n",
       "  </tbody>\n",
       "</table>\n",
       "</div>"
      ],
      "text/plain": [
       "Empty DataFrame\n",
       "Columns: [ProgramName, CourseCode, WilType, ContactName, City, StudentsPlacedFall22, PAC/PLACE/CAREER]\n",
       "Index: []"
      ]
     },
     "execution_count": 55,
     "metadata": {},
     "output_type": "execute_result"
    }
   ],
   "source": [
    "dt[dt[\"ProgramName\"].isnull() & dt[[\"CourseCode\"]].notnull().any(axis=1)]"
   ]
  },
  {
   "cell_type": "code",
   "execution_count": 57,
   "id": "d5f0d993",
   "metadata": {},
   "outputs": [
    {
     "data": {
      "text/plain": [
       "array(['Business',\n",
       "       'Electromechanical Engineering Technology/Technician - Robotics ',\n",
       "       'B875 - ADVERTISING AND MARKETING COMMUNICATION MANAGEMENT/ B792 - WEB AND INTERACTIVE ADVERTISING',\n",
       "       'International Business Management - Logistics Systems',\n",
       "       'Mobile Applications Development', 'Event Management ',\n",
       "       'Community & Justice Services', 'Power Engineering ',\n",
       "       'Honours Bachelor of Applied Arts in Social Justice & Legal Studies',\n",
       "       'Academic and Career Entrance / College and Employment Preperation',\n",
       "       'Powerline Technician ', 'Respiratory Therapy',\n",
       "       'Plumbing Techniques/Plumbing Apprenticeship',\n",
       "       'Electrical Engineering Technician', 'Architectural Technnology ',\n",
       "       'Landscape Horticulture', 'Graphic Design',\n",
       "       'Mechanical Engineering Technology - Automotive Product Design',\n",
       "       'Occupational Therapist Assistant / Physiotherapist Assistant',\n",
       "       'Brick and Stone Mason',\n",
       "       'Electronics Engineering Technology - Industrial Automation',\n",
       "       'T805- WOODWORKING/ T964-CARPENTRY TECHNIQUES / 403A- GENERAL CARPENTRY',\n",
       "       'Sport & Recreation Management',\n",
       "       'B101- Early Childhood Education  / B820-Early Childhood Education - ACCELERATED / B846-Early Childhood Education - CONCURRENT ',\n",
       "       'Biomedical Engineering Technology - Equipment and Devices',\n",
       "       'Journalism / Media Convergance', 'Chemical Laboratory Technology',\n",
       "       'T923 - PRECISION METAL CUTTING (EARN WHILE YOU LEARN)',\n",
       "       'B802/M802 - HUMAN RESOURCES MANAGEMENT / B880 - BUS ADMIN - HUMAN RESOURCES',\n",
       "       'Paramedic ', 'Border Services ', 'Pharmacy Technician ',\n",
       "       'Tourism - Travel', 'Interior Design  ', 'Public Relations',\n",
       "       'Music Theatre', 'Pre-Service Firefighter Education and Training',\n",
       "       'Dental Hygiene / Dental Assisting Level I and II',\n",
       "       'Business Administration - Marketing / Business Marketing',\n",
       "       'Heating, Refrigeration & Air Conditioning Technician',\n",
       "       'Cardiovascular Technology', 'Hospitality - Hotel & Restaurant',\n",
       "       'Veterinary Technician ', nan,\n",
       "       'Advanced Medical Esthetics Practitioner',\n",
       "       'Child and Youth Care / Child and Youth Care - Accelerated',\n",
       "       'Academic and Career Entrance (Chatham)',\n",
       "       'T958/T167- TRUCK AND COACH TECHNIQUES/MOTIVE POWER /310S/310T-AUTO SERVICE TECHNCIAN/TRUCK AND COACH TECHNICIAN',\n",
       "       'Esports Administration and Entrepreneurship',\n",
       "       'Electrical Techniques (both)',\n",
       "       'K950/K963 - COLLABORATIVE NURSING/PRACTICAL NURSING/ K933- PSW',\n",
       "       'Cardiovascular Technology ',\n",
       "       'Computer Systems Technician/Technology - Networking',\n",
       "       'Medical Laboratory Science / Medical Laboratory Technician',\n",
       "       'Fashion Design Technician',\n",
       "       'B395- CULINARY MANAGEMENT/ 415A- COOK APPRENTICE BRANCH 2',\n",
       "       'Community Integration through Cooperative Education',\n",
       "       'B228/K238/M228- OFFICE ADMINISTRATION - HEALTH SERVICES - FAST TRACK/ B226/K231- OAE  - FAST TRACK/  B226- OAG',\n",
       "       'Autism & Behavioural Science', 'Esthetician',\n",
       "       'Early Childhood Education', 'Fitness & Health Promotion',\n",
       "       'Business Administration - Accounting / Business - Accounting',\n",
       "       'Data Analytics for Business', 'Diagnostic Medical Sonography ',\n",
       "       'Welding Techniques',\n",
       "       'B819- POLICE FOUNDATIONS / B803-PROTECTION, SECURITY AND INVESTIGATION',\n",
       "       'Animation 2D/3D',\n",
       "       'Developmental Services Worker / Developmental Services Worker - Accelerated',\n",
       "       'Web Development and Internet Applications',\n",
       "       'T036- CIVIL ENGINEERING TECHNOLOGY/T046-CONSTRUCTION MANAGEMENT PROJECT / T026-CONSTRUCTION ENGINEERING TECHNICIAN',\n",
       "       'T914- HAIRSTYLIST/332A-STYLIST/HAIRDRESSER/ BARBER',\n",
       "       'T867 - MECHANICAL TECHNICIAN - CAD/CAM/ 429A-GENERALL MACHINIST / 430A- TOOL AND DIE MAKER / 431A-MOULDMAKER',\n",
       "       'K813 - Protection, Security and Investigation / K919- Police Foundations',\n",
       "       'T855 -\\xa0MECHANICAL ENGINEERING TECHNICIAN - INDUSTRIAL (MILLWRIGHT)/433A-MILLWRIGHT',\n",
       "       'Paralegal / Paralegal - Accelerated',\n",
       "       'B895/K384/M995- SOCIAL SERVICE WORKER - GERONTOLOGY',\n",
       "       'B851 - BUSINESS ADMINISTRATION - FINANCE',\n",
       "       'General Arts / Liberal Arts', 'B899- EDUCATIONAL SUPPORT',\n",
       "       'Business Administration - Human Resources',\n",
       "       'Business- Accounting', 'Child and Youth Care',\n",
       "       'Collborative Nursing', 'Social Service Worker - Gerontology',\n",
       "       'Office Administration - Health Services ',\n",
       "       'Occupational Therapist Assistant / Physiotherapist Assistant ',\n",
       "       'Veterinary Technician', 'Office Administration - Executive',\n",
       "       'Developtmental Service Worker ',\n",
       "       'Honours Bachelor of Business Administration (Information Communication Technology)',\n",
       "       'Business - Marketing', 'Dental Assisting Level I and II',\n",
       "       'Medical Laboratory Technician ', 'Medical Laboratory Science',\n",
       "       'Fitness & Health Promotion ', 'Dental Hygiene ',\n",
       "       'Diagnostic Cardiac Sonography ',\n",
       "       'Diagnostic Medical Sonography / Diagnostic Cardiac Sonography ',\n",
       "       'Electromechanical Engineering Technician/Technology - Robotics ',\n",
       "       'Construciton Engineering Technician / Construciton Project Management ',\n",
       "       'Robotics', 'Community and Justice Services', 'Welding',\n",
       "       'Interior Design',\n",
       "       'Architectural Technology/Construction Project Management ',\n",
       "       'Personal Support Worker ', 'Business Accounting Chatham',\n",
       "       'Greenhouse Technician ', 'Electric Drive Vehicle Technician'],\n",
       "      dtype=object)"
      ]
     },
     "execution_count": 57,
     "metadata": {},
     "output_type": "execute_result"
    }
   ],
   "source": [
    "#dt = dt.drop(\"CourseCode\", axis=1)\n",
    "dt['CourseCode'].unique()\n",
    "dt['ProgramName'].unique()"
   ]
  },
  {
   "cell_type": "code",
   "execution_count": 48,
   "id": "d7157cf4",
   "metadata": {},
   "outputs": [],
   "source": [
    "placed = dt[dt['StudentsPlacedFall22'].notna()]\n",
    "not_placed = dt[dt['StudentsPlacedFall22'].isna()]"
   ]
  },
  {
   "cell_type": "code",
   "execution_count": 49,
   "id": "870b806f",
   "metadata": {},
   "outputs": [
    {
     "name": "stdout",
     "output_type": "stream",
     "text": [
      "<class 'pandas.core.frame.DataFrame'>\n",
      "Int64Index: 3823 entries, 0 to 4548\n",
      "Data columns (total 7 columns):\n",
      " #   Column                Non-Null Count  Dtype  \n",
      "---  ------                --------------  -----  \n",
      " 0   ProgramName           1549 non-null   object \n",
      " 1   CourseCode            460 non-null    object \n",
      " 2   WilType               451 non-null    object \n",
      " 3   ContactName           3823 non-null   object \n",
      " 4   City                  1791 non-null   object \n",
      " 5   StudentsPlacedFall22  0 non-null      float64\n",
      " 6   PAC/PLACE/CAREER      3669 non-null   object \n",
      "dtypes: float64(1), object(6)\n",
      "memory usage: 238.9+ KB\n",
      "<class 'pandas.core.frame.DataFrame'>\n",
      "Int64Index: 726 entries, 579 to 4482\n",
      "Data columns (total 7 columns):\n",
      " #   Column                Non-Null Count  Dtype  \n",
      "---  ------                --------------  -----  \n",
      " 0   ProgramName           699 non-null    object \n",
      " 1   CourseCode            387 non-null    object \n",
      " 2   WilType               376 non-null    object \n",
      " 3   ContactName           726 non-null    object \n",
      " 4   City                  426 non-null    object \n",
      " 5   StudentsPlacedFall22  726 non-null    float64\n",
      " 6   PAC/PLACE/CAREER      725 non-null    object \n",
      "dtypes: float64(1), object(6)\n",
      "memory usage: 45.4+ KB\n"
     ]
    }
   ],
   "source": [
    "not_placed.info()\n",
    "placed.info()"
   ]
  },
  {
   "cell_type": "code",
   "execution_count": 50,
   "id": "3997358f",
   "metadata": {},
   "outputs": [
    {
     "data": {
      "text/plain": [
       "array([nan, 'windsor', 'kingsville', 'chatham-kent', 'lasalle',\n",
       "       'etobicoke', 'ridgetown', 'amherstburg', 'leamington', 'tecumseh',\n",
       "       'north york', 'wheatley', 'scarborough', 'kitchener', 'alliston',\n",
       "       'belle river', 'toronto', 'maidstone', 'brampton', 'mississauga',\n",
       "       'orléans', 'woodstock', 'collingwood', 'oldcastle', 'blenheim',\n",
       "       'strathroy', 'essex', 'orillia', 'wallaceburg', 'tilbury',\n",
       "       'fergus', 'emeryville', 'hamilton', 'goderich', 'sarnia',\n",
       "       'st. thomas', 'edmonton', 'ingersoll', 'richmond hill',\n",
       "       'owen sound', 'orangeville', 'burlington', 'london', 'newmarket',\n",
       "       'ottawa', 'other', 'stratford', 'belleville', 'tillsonburg',\n",
       "       'point edward', 'glencoe', 'grand bend', 'grand valley', 'komoka',\n",
       "       'mount brydges', 'newbury', 'thamesville', 'vancouver'],\n",
       "      dtype=object)"
      ]
     },
     "execution_count": 50,
     "metadata": {},
     "output_type": "execute_result"
    }
   ],
   "source": [
    "placed['City'].unique()"
   ]
  },
  {
   "cell_type": "code",
   "execution_count": 51,
   "id": "0b705a65",
   "metadata": {},
   "outputs": [
    {
     "data": {
      "text/plain": [
       "array([nan, 'windsor', 'london', 'mississauga', 'oldcastle', 'kingsville',\n",
       "       'leamington', 'chatham-kent', 'essex', 'lasalle', 'blenheim',\n",
       "       'tilbury', 'tecumseh', 'ridgetown', 'guelph', 'dundas',\n",
       "       'georgetown', 'wallaceburg', 'scarborough', 'lucan', 'toronto',\n",
       "       'maidstone', 'thunder bay', 'shelburne', 'corunna', 'belle river',\n",
       "       'north york', 'sarnia', 'calgary', 'amherstburg', 'alliston',\n",
       "       'thamesville', 'wheatley', 'victoria', 'dutton', 'wingham',\n",
       "       'kitchener', 'new hamburg', 'brampton', 'ottawa', 'lakeshore',\n",
       "       'west lorne', 'fergus', 'st. thomas', 'petrolia', 'woodstock',\n",
       "       'whitby', 'waterloo', 'strathroy', 'gta', 'port hope',\n",
       "       'blind river', 'dresden', 'stoney point', 'dryden', 'listowell',\n",
       "       'hanover', 'courtright', 'st. catharines', 'st. marys', 'markham',\n",
       "       'greater napanee', 'thunderbay', 'pembroke', 'mooretown',\n",
       "       'ruthven', 'winchester', 'bolton', 'banff', 'sudbury', 'bath',\n",
       "       'kincardine', 'mitchell', 'southfield', 'farmington hills',\n",
       "       'taylor', 'belleville', 'courtice', 'ilderton', 'kirkland lake',\n",
       "       'warren', 'newmarket', 'kanata', 'burlington', 'caledonia',\n",
       "       'hiuntsville', 'vancouver', 'richmond hill', 'etobicoke',\n",
       "       'vaughan', 'collingwood', 'hagersville', 'cornwall', 'north bay',\n",
       "       'woodslee', 'cranbrook', 'aylmer', 'medicine hat', 'goderich',\n",
       "       'cambridge', 'thornhill', 'kamloops', 'edmonton', 'peterborough',\n",
       "       'other', 'comber', 'pelee island', 'dover centre',\n",
       "       'trois-rivières', 'geraldton', 'golden', 'st catharines',\n",
       "       'oakville', 'stratford', 'kelowna', 'minett', 'kemptville',\n",
       "       'kenora', 'oshawa', 'watford', 'montreal', 'brantford',\n",
       "       'port perry', 'cochrane', 'pakenham', 'dartmouth', 'glencoe',\n",
       "       'huntsville', 'niagara', 'concord', 'morriston', 'assiniboia',\n",
       "       'stoney creek', 'charing cross', 'saint-hyacinthe', 'kingston',\n",
       "       'barrie', 'dearborn', 'hamilton', 'fort frances', 'merlin',\n",
       "       'paris', 'chapleau', 'sioux lookout', 'wyoming', 'mirabel',\n",
       "       'morrisburg', 'yellowknife', 'wallacbeurg', 'owen sound',\n",
       "       'staples', 'belwoodtario', 'arkona', 'emeryville', 'tillsonburg',\n",
       "       'waterford', 'sault ste. marie', 'rodney', 'mcgregor'],\n",
       "      dtype=object)"
      ]
     },
     "execution_count": 51,
     "metadata": {},
     "output_type": "execute_result"
    }
   ],
   "source": [
    "not_placed['City'].unique()"
   ]
  },
  {
   "cell_type": "code",
   "execution_count": 52,
   "id": "c255949a",
   "metadata": {},
   "outputs": [],
   "source": [
    "placed.to_csv('placed.csv', index=False)\n"
   ]
  },
  {
   "cell_type": "code",
   "execution_count": 45,
   "id": "0ecd00ca",
   "metadata": {},
   "outputs": [],
   "source": [
    "placed['City'].unique()"
   ]
  },
  {
   "cell_type": "code",
   "execution_count": 53,
   "id": "795ecce7",
   "metadata": {},
   "outputs": [
    {
     "data": {
      "text/plain": [
       "Index(['ProgramName', 'CourseCode', 'WilType', 'ContactName', 'City',\n",
       "       'StudentsPlacedFall22', 'PAC/PLACE/CAREER'],\n",
       "      dtype='object')"
      ]
     },
     "execution_count": 53,
     "metadata": {},
     "output_type": "execute_result"
    }
   ],
   "source": [
    "placed.keys()"
   ]
  },
  {
   "cell_type": "code",
   "execution_count": 61,
   "id": "8226d961",
   "metadata": {},
   "outputs": [
    {
     "name": "stdout",
     "output_type": "stream",
     "text": [
      "<class 'pandas.core.frame.DataFrame'>\n",
      "Int64Index: 3823 entries, 0 to 4548\n",
      "Data columns (total 7 columns):\n",
      " #   Column                Non-Null Count  Dtype  \n",
      "---  ------                --------------  -----  \n",
      " 0   ProgramName           1549 non-null   object \n",
      " 1   CourseCode            460 non-null    object \n",
      " 2   WilType               451 non-null    object \n",
      " 3   ContactName           3823 non-null   object \n",
      " 4   City                  1791 non-null   object \n",
      " 5   StudentsPlacedFall22  3823 non-null   float64\n",
      " 6   PAC/PLACE/CAREER      3669 non-null   object \n",
      "dtypes: float64(1), object(6)\n",
      "memory usage: 238.9+ KB\n"
     ]
    }
   ],
   "source": [
    "not_placed.info()"
   ]
  },
  {
   "cell_type": "code",
   "execution_count": 60,
   "id": "a1819275",
   "metadata": {},
   "outputs": [
    {
     "name": "stderr",
     "output_type": "stream",
     "text": [
      "C:\\Users\\solan\\AppData\\Local\\Temp\\ipykernel_23312\\1473898298.py:1: SettingWithCopyWarning: \n",
      "A value is trying to be set on a copy of a slice from a DataFrame.\n",
      "Try using .loc[row_indexer,col_indexer] = value instead\n",
      "\n",
      "See the caveats in the documentation: https://pandas.pydata.org/pandas-docs/stable/user_guide/indexing.html#returning-a-view-versus-a-copy\n",
      "  not_placed['StudentsPlacedFall22'] = not_placed['StudentsPlacedFall22'].fillna(0)\n"
     ]
    }
   ],
   "source": [
    "not_placed['StudentsPlacedFall22'] = not_placed['StudentsPlacedFall22'].fillna(0)"
   ]
  },
  {
   "cell_type": "code",
   "execution_count": 62,
   "id": "bf1f8c44",
   "metadata": {},
   "outputs": [],
   "source": [
    "not_placed.to_csv('not_placed.csv', index=False)"
   ]
  }
 ],
 "metadata": {
  "kernelspec": {
   "display_name": "Python 3 (ipykernel)",
   "language": "python",
   "name": "python3"
  },
  "language_info": {
   "codemirror_mode": {
    "name": "ipython",
    "version": 3
   },
   "file_extension": ".py",
   "mimetype": "text/x-python",
   "name": "python",
   "nbconvert_exporter": "python",
   "pygments_lexer": "ipython3",
   "version": "3.9.13"
  }
 },
 "nbformat": 4,
 "nbformat_minor": 5
}
